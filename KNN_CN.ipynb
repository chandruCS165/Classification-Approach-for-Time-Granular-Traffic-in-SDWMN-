{
  "nbformat": 4,
  "nbformat_minor": 0,
  "metadata": {
    "colab": {
      "name": "KNN_CN.ipynb",
      "provenance": [],
      "collapsed_sections": [],
      "authorship_tag": "ABX9TyONvjmOfGjGhfDR+vxkmsqk",
      "include_colab_link": true
    },
    "kernelspec": {
      "name": "python3",
      "display_name": "Python 3"
    }
  },
  "cells": [
    {
      "cell_type": "markdown",
      "metadata": {
        "id": "view-in-github",
        "colab_type": "text"
      },
      "source": [
        "<a href=\"https://colab.research.google.com/github/chandruCS165/Classification-Approach-for-Time-Granular-Traffic-in-SDWMN-/blob/main/KNN_CN.ipynb\" target=\"_parent\"><img src=\"https://colab.research.google.com/assets/colab-badge.svg\" alt=\"Open In Colab\"/></a>"
      ]
    },
    {
      "cell_type": "code",
      "metadata": {
        "id": "rc5t1EGyDSNR",
        "colab": {
          "resources": {
            "http://localhost:8080/nbextensions/google.colab/files.js": {
              "data": "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",
              "ok": true,
              "headers": [
                [
                  "content-type",
                  "application/javascript"
                ]
              ],
              "status": 200,
              "status_text": ""
            }
          },
          "base_uri": "https://localhost:8080/",
          "height": 427
        },
        "outputId": "5d59d0dc-e3a4-46f3-b8c9-1d4ae0c2addd"
      },
      "source": [
        "import pandas as pd\n",
        "import numpy as np\n",
        "from sklearn import preprocessing\n",
        "from google.colab import files\n",
        "from sklearn.neighbors import KNeighborsClassifier\n",
        "from sklearn.model_selection import KFold\n",
        "uploaded = []\n",
        "uploaded.append(files.upload())"
      ],
      "execution_count": null,
      "outputs": [
        {
          "output_type": "display_data",
          "data": {
            "text/html": [
              "\n",
              "     <input type=\"file\" id=\"files-a013b62d-8419-4fc7-8430-b63a2086f160\" name=\"files[]\" multiple disabled\n",
              "        style=\"border:none\" />\n",
              "     <output id=\"result-a013b62d-8419-4fc7-8430-b63a2086f160\">\n",
              "      Upload widget is only available when the cell has been executed in the\n",
              "      current browser session. Please rerun this cell to enable.\n",
              "      </output>\n",
              "      <script src=\"/nbextensions/google.colab/files.js\"></script> "
            ],
            "text/plain": [
              "<IPython.core.display.HTML object>"
            ]
          },
          "metadata": {
            "tags": []
          }
        },
        {
          "output_type": "stream",
          "text": [
            "Saving 802_15_4_MACperf_5s.csv to 802_15_4_MACperf_5s (1).csv\n",
            "Saving 802_15_4_MACperf_10s.csv to 802_15_4_MACperf_10s (1).csv\n",
            "Saving 802_15_4_MACperf_15s.csv to 802_15_4_MACperf_15s (1).csv\n",
            "Saving 802_15_4_MACperf_20s.csv to 802_15_4_MACperf_20s (1).csv\n",
            "Saving 802_15_4_MACperf_25s.csv to 802_15_4_MACperf_25s (1).csv\n",
            "Saving 802_15_4_MACperf_30s.csv to 802_15_4_MACperf_30s (1).csv\n",
            "Saving 802_15_4_MACperf_35s.csv to 802_15_4_MACperf_35s (1).csv\n",
            "Saving 802_15_4_MACperf_40s.csv to 802_15_4_MACperf_40s (1).csv\n",
            "Saving 802_15_4_MACperf_45s.csv to 802_15_4_MACperf_45s (1).csv\n",
            "Saving 802_15_4_MACperf_50s.csv to 802_15_4_MACperf_50s (1).csv\n",
            "Saving 802_15_4_MACperf_55s.csv to 802_15_4_MACperf_55s (1).csv\n",
            "Saving 802_15_4_MACperf_60s.csv to 802_15_4_MACperf_60s (1).csv\n"
          ],
          "name": "stdout"
        }
      ]
    },
    {
      "cell_type": "markdown",
      "metadata": {
        "id": "rb-GieyeW8fN"
      },
      "source": [
        "# **Fine  K Nearest Neighbor (F_KNN)**"
      ]
    },
    {
      "cell_type": "code",
      "metadata": {
        "colab": {
          "base_uri": "https://localhost:8080/"
        },
        "id": "zwd4uVZzWnCu",
        "outputId": "2f52812d-fcbd-47bd-bdea-4ecfd2b8213f"
      },
      "source": [
        "accuracies = []\n",
        "acc = []\n",
        "for j in range(5,65,5):\n",
        "  if(j >= 25 and j<= 40):\n",
        "    continue\n",
        "  #UPLOADING THE TRAIN DATASET\n",
        "  X = pd.read_csv('802_15_4_MACperf_'+str(j)+'s.csv')\n",
        "\n",
        "\n",
        "  #DATA PREPROCESSING\n",
        "  X = X.sample(frac = 1)\n",
        "  Y = X['COR'].values\n",
        "  kf = KFold(n_splits=10)\n",
        "\n",
        "  X_ = X.drop(\"COR\", axis=1)\n",
        "  X_ = preprocessing.StandardScaler().fit(X_).transform(X_)\n",
        "  label = preprocessing.LabelEncoder()\n",
        "  label.fit([0,20])\n",
        "  Y_ = label.transform(Y) \n",
        "  scores = []\n",
        "  KNN = KNeighborsClassifier(n_neighbors=5,metric = 'euclidean')\n",
        "  for train, test in kf.split(X):\n",
        "    X_train, X_test, Y_train, Y_test = X_[train],X_[test],Y_[train],Y_[test]\n",
        "    KNN.fit(X_train,Y_train)\n",
        "    scores.append(KNN.score(X_test,Y_test))\n",
        "  accuracy = np.mean(scores)\n",
        "  accuracies.append(accuracy)\n",
        "  print(str(j)+\"sec OTP dataset:\",\"   Accuracy is \",accuracy)\n",
        "  if(j == 20):\n",
        "    print(\"Average accuracy of fine Granular OTP dataset\",np.mean(accuracies))\n",
        "    acc.append(np.mean(accuracies))\n",
        "    accuracies = []\n",
        "  if(j == 60):\n",
        "    print(\"Average accuracy of coarse Granular OTP dataset\",np.mean(accuracies))\n",
        "    acc.append(np.mean(accuracies))\n",
        "    accuracies = []\n",
        "print(\"Average Accuracy \",np.mean(acc))"
      ],
      "execution_count": null,
      "outputs": [
        {
          "output_type": "stream",
          "text": [
            "5sec OTP dataset:    Accuracy is  0.993862178570553\n",
            "10sec OTP dataset:    Accuracy is  0.9906079750949962\n",
            "15sec OTP dataset:    Accuracy is  0.9884937685787394\n",
            "20sec OTP dataset:    Accuracy is  0.9858136775492593\n",
            "Average accuracy of fine Granular OTP dataset 0.9896943999483869\n",
            "45sec OTP dataset:    Accuracy is  0.9769048630927084\n",
            "50sec OTP dataset:    Accuracy is  0.9791972168187939\n",
            "55sec OTP dataset:    Accuracy is  0.9790903319426809\n",
            "60sec OTP dataset:    Accuracy is  0.9743344783168743\n",
            "Average accuracy of coarse Granular OTP dataset 0.9773817225427645\n",
            "Average Accuracy  0.9835380612455757\n"
          ],
          "name": "stdout"
        }
      ]
    },
    {
      "cell_type": "markdown",
      "metadata": {
        "id": "eSGNCIRpX2T0"
      },
      "source": [
        "# **Medium K Nearest Neighbors (M_KNN)**"
      ]
    },
    {
      "cell_type": "code",
      "metadata": {
        "colab": {
          "base_uri": "https://localhost:8080/"
        },
        "id": "3HPT8wu5XdXw",
        "outputId": "c479b563-b8d1-4a71-df42-3f518b11ce52"
      },
      "source": [
        "accuracies = []\n",
        "acc = []\n",
        "for j in range(5,65,5):\n",
        "  if(j >= 25 and j<= 40):\n",
        "    continue\n",
        "  #UPLOADING THE TRAIN DATASET\n",
        "  X = pd.read_csv('802_15_4_MACperf_'+str(j)+'s.csv')\n",
        "\n",
        "\n",
        "  #DATA PREPROCESSING\n",
        "  X = X.sample(frac = 1)\n",
        "  Y = X['COR'].values\n",
        "  kf = KFold(n_splits=10)\n",
        "\n",
        "  X_ = X.drop(\"COR\", axis=1)\n",
        "  X_ = preprocessing.StandardScaler().fit(X_).transform(X_)\n",
        "  label = preprocessing.LabelEncoder()\n",
        "  label.fit([0,20])\n",
        "  Y_ = label.transform(Y) \n",
        "  scores = []\n",
        "  KNN = KNeighborsClassifier(n_neighbors=10,metric='euclidean')\n",
        "  for train, test in kf.split(X):\n",
        "    X_train, X_test, Y_train, Y_test = X_[train],X_[test],Y_[train],Y_[test]\n",
        "    KNN.fit(X_train,Y_train)\n",
        "    scores.append(KNN.score(X_test,Y_test))\n",
        "  accuracy = np.mean(scores)\n",
        "  accuracies.append(accuracy)\n",
        "  print(str(j)+\"sec OTP dataset:\",\"   Accuracy is \",accuracy)\n",
        "  if(j == 20):\n",
        "    print(\"Average accuracy of fine Granular OTP dataset\",np.mean(accuracies))\n",
        "    acc.append(np.mean(accuracies))\n",
        "    accuracies = []\n",
        "  if(j == 60):\n",
        "    print(\"Average accuracy of coarse Granular OTP dataset\",np.mean(accuracies))\n",
        "    acc.append(np.mean(accuracies))\n",
        "    accuracies = []\n",
        "print(\"Average Accuracy \",np.mean(acc))"
      ],
      "execution_count": null,
      "outputs": [
        {
          "output_type": "stream",
          "text": [
            "5sec OTP dataset:    Accuracy is  0.9906017584141589\n",
            "10sec OTP dataset:    Accuracy is  0.9860353431305224\n",
            "15sec OTP dataset:    Accuracy is  0.9834838024429103\n",
            "20sec OTP dataset:    Accuracy is  0.9826298000862936\n",
            "Average accuracy of fine Granular OTP dataset 0.9856876760184714\n",
            "45sec OTP dataset:    Accuracy is  0.9719689150628378\n",
            "50sec OTP dataset:    Accuracy is  0.9749289241358671\n",
            "55sec OTP dataset:    Accuracy is  0.9763921639760567\n",
            "60sec OTP dataset:    Accuracy is  0.9736474881923571\n",
            "Average accuracy of coarse Granular OTP dataset 0.9742343728417797\n",
            "Average Accuracy  0.9799610244301256\n"
          ],
          "name": "stdout"
        }
      ]
    },
    {
      "cell_type": "markdown",
      "metadata": {
        "id": "hGcxfYz_X_LJ"
      },
      "source": [
        "# **Coarse K Nearest Neighbor (C_KNN)**"
      ]
    },
    {
      "cell_type": "code",
      "metadata": {
        "colab": {
          "base_uri": "https://localhost:8080/"
        },
        "id": "sTQ5oRw-XkaD",
        "outputId": "67cb01bd-d901-4aa3-b594-3753a0e5acf3"
      },
      "source": [
        "accuracies = []\n",
        "acc = []\n",
        "for j in range(5,65,5):\n",
        "  if(j >= 25 and j<= 40):\n",
        "    continue\n",
        "  #UPLOADING THE TRAIN DATASET\n",
        "  X = pd.read_csv('802_15_4_MACperf_'+str(j)+'s.csv')\n",
        "\n",
        "\n",
        "  #DATA PREPROCESSING\n",
        "  X = X.sample(frac = 1)\n",
        "  Y = X['COR'].values\n",
        "  kf = KFold(n_splits=10)\n",
        "\n",
        "  X_ = X.drop(\"COR\", axis=1)\n",
        "  X_ = preprocessing.StandardScaler().fit(X_).transform(X_)\n",
        "  label = preprocessing.LabelEncoder()\n",
        "  label.fit([0,20])\n",
        "  Y_ = label.transform(Y) \n",
        "  scores = []\n",
        "  KNN = KNeighborsClassifier(n_neighbors=100,metric = 'euclidean')\n",
        "  for train, test in kf.split(X):\n",
        "    X_train, X_test, Y_train, Y_test = X_[train],X_[test],Y_[train],Y_[test]\n",
        "    KNN.fit(X_train,Y_train)\n",
        "    scores.append(KNN.score(X_test,Y_test))\n",
        "  accuracy = np.mean(scores)\n",
        "  accuracies.append(accuracy)\n",
        "  print(str(j)+\"sec OTP dataset:\",\"   Accuracy is \",accuracy)\n",
        "  if(j == 20):\n",
        "    print(\"Average accuracy of fine Granular OTP dataset\",np.mean(accuracies))\n",
        "    acc.append(np.mean(accuracies))\n",
        "    accuracies = []\n",
        "  if(j == 60):\n",
        "    print(\"Average accuracy of coarse Granular OTP dataset\",np.mean(accuracies))\n",
        "    acc.append(np.mean(accuracies))\n",
        "    accuracies = []\n",
        "print(\"Average Accuracy \",np.mean(acc))"
      ],
      "execution_count": null,
      "outputs": [
        {
          "output_type": "stream",
          "text": [
            "5sec OTP dataset:    Accuracy is  0.9751932866492895\n",
            "10sec OTP dataset:    Accuracy is  0.9734303895984985\n",
            "15sec OTP dataset:    Accuracy is  0.966592754033009\n",
            "20sec OTP dataset:    Accuracy is  0.9664910829857616\n",
            "Average accuracy of fine Granular OTP dataset 0.9704268783166397\n",
            "45sec OTP dataset:    Accuracy is  0.961508105154514\n",
            "50sec OTP dataset:    Accuracy is  0.9596289091725273\n",
            "55sec OTP dataset:    Accuracy is  0.9628967894068566\n",
            "60sec OTP dataset:    Accuracy is  0.9618720480893087\n",
            "Average accuracy of coarse Granular OTP dataset 0.9614764629558016\n",
            "Average Accuracy  0.9659516706362206\n"
          ],
          "name": "stdout"
        }
      ]
    },
    {
      "cell_type": "markdown",
      "metadata": {
        "id": "5Hl0Z5KKZLTG"
      },
      "source": [
        "# **Cosine K Nearest Neighbor (Cos_KNN)**"
      ]
    },
    {
      "cell_type": "code",
      "metadata": {
        "colab": {
          "base_uri": "https://localhost:8080/"
        },
        "id": "tOY1Hi13ZSY9",
        "outputId": "6a2ab3f2-0e39-4a20-cd08-fd3d866da560"
      },
      "source": [
        "accuracies = []\n",
        "acc = []\n",
        "for j in range(5,65,5):\n",
        "  if(j >= 25 and j<= 40):\n",
        "    continue\n",
        "  #UPLOADING THE TRAIN DATASET\n",
        "  X = pd.read_csv('802_15_4_MACperf_'+str(j)+'s.csv')\n",
        "\n",
        "\n",
        "  #DATA PREPROCESSING\n",
        "  X = X.sample(frac = 1)\n",
        "  Y = X['COR'].values\n",
        "  kf = KFold(n_splits=10)\n",
        "\n",
        "  X_ = X.drop(\"COR\", axis=1)\n",
        "  X_ = preprocessing.StandardScaler().fit(X_).transform(X_)\n",
        "  label = preprocessing.LabelEncoder()\n",
        "  label.fit([0,20])\n",
        "  Y_ = label.transform(Y) \n",
        "  scores = []\n",
        "  KNN = KNeighborsClassifier(n_neighbors=5,metric='cosine')\n",
        "  for train, test in kf.split(X):\n",
        "    X_train, X_test, Y_train, Y_test = X_[train],X_[test],Y_[train],Y_[test]\n",
        "    KNN.fit(X_train,Y_train)\n",
        "    scores.append(KNN.score(X_test,Y_test))\n",
        "  accuracy = np.mean(scores)\n",
        "  accuracies.append(accuracy)\n",
        "  print(str(j)+\"sec OTP dataset:\",\"   Accuracy is \",accuracy)\n",
        "  if(j == 20):\n",
        "    print(\"Average accuracy of fine Granular OTP dataset\",np.mean(accuracies))\n",
        "    acc.append(np.mean(accuracies))\n",
        "    accuracies = []\n",
        "  if(j == 60):\n",
        "    print(\"Average accuracy of coarse Granular OTP dataset\",np.mean(accuracies))\n",
        "    acc.append(np.mean(accuracies))\n",
        "    accuracies = []\n",
        "print(\"Average Accuracy \",np.mean(acc))"
      ],
      "execution_count": null,
      "outputs": [
        {
          "output_type": "stream",
          "text": [
            "5sec OTP dataset:    Accuracy is  0.9938622194259006\n",
            "10sec OTP dataset:    Accuracy is  0.9902374521204351\n",
            "15sec OTP dataset:    Accuracy is  0.9888655157906351\n",
            "20sec OTP dataset:    Accuracy is  0.9872812694760056\n",
            "Average accuracy of fine Granular OTP dataset 0.9900616142032441\n",
            "45sec OTP dataset:    Accuracy is  0.9774634205573433\n",
            "50sec OTP dataset:    Accuracy is  0.9773604668562023\n",
            "55sec OTP dataset:    Accuracy is  0.9770542354434972\n",
            "60sec OTP dataset:    Accuracy is  0.9743559467582653\n",
            "Average accuracy of coarse Granular OTP dataset 0.976558517403827\n",
            "Average Accuracy  0.9833100658035356\n"
          ],
          "name": "stdout"
        }
      ]
    },
    {
      "cell_type": "markdown",
      "metadata": {
        "id": "ZBmio6tRZqWW"
      },
      "source": [
        "# **Cubic K Nearest Neighbor (Cu_KNN)**"
      ]
    },
    {
      "cell_type": "code",
      "metadata": {
        "colab": {
          "base_uri": "https://localhost:8080/"
        },
        "id": "1q0YG9C5Z0k_",
        "outputId": "98620334-c1ab-431b-b9b1-695dfb49a08e"
      },
      "source": [
        "accuracies = []\n",
        "acc = []\n",
        "for j in range(5,65,5):\n",
        "  if(j >= 25 and j<= 40):\n",
        "    continue\n",
        "  #UPLOADING THE TRAIN DATASET\n",
        "  X = pd.read_csv('802_15_4_MACperf_'+str(j)+'s.csv')\n",
        "\n",
        "\n",
        "  #DATA PREPROCESSING\n",
        "  X = X.sample(frac = 1)\n",
        "  Y = X['COR'].values\n",
        "  kf = KFold(n_splits=10)\n",
        "\n",
        "  X_ = X.drop(\"COR\", axis=1)\n",
        "  X_ = preprocessing.StandardScaler().fit(X_).transform(X_)\n",
        "  label = preprocessing.LabelEncoder()\n",
        "  label.fit([0,20])\n",
        "  Y_ = label.transform(Y) \n",
        "  scores = []\n",
        "  KNN = KNeighborsClassifier(n_neighbors=10,p=3)\n",
        "  for train, test in kf.split(X):\n",
        "    X_train, X_test, Y_train, Y_test = X_[train],X_[test],Y_[train],Y_[test]\n",
        "    KNN.fit(X_train,Y_train)\n",
        "    scores.append(KNN.score(X_test,Y_test))\n",
        "  accuracy = np.mean(scores)\n",
        "  accuracies.append(accuracy)\n",
        "  print(str(j)+\"sec OTP dataset:\",\"   Accuracy is \",accuracy)\n",
        "  if(j == 20):\n",
        "    print(\"Average accuracy of fine Granular OTP dataset\",np.mean(accuracies))\n",
        "    acc.append(np.mean(accuracies))\n",
        "    accuracies = []\n",
        "  if(j == 60):\n",
        "    print(\"Average accuracy of coarse Granular OTP dataset\",np.mean(accuracies))\n",
        "    acc.append(np.mean(accuracies))\n",
        "    accuracies = []\n",
        "print(\"Average Accuracy \",np.mean(acc))"
      ],
      "execution_count": null,
      "outputs": [
        {
          "output_type": "stream",
          "text": [
            "5sec OTP dataset:    Accuracy is  0.9898986378827125\n",
            "10sec OTP dataset:    Accuracy is  0.985665277968533\n",
            "15sec OTP dataset:    Accuracy is  0.9814426412673891\n",
            "20sec OTP dataset:    Accuracy is  0.981159811112709\n",
            "Average accuracy of fine Granular OTP dataset 0.9845415920578359\n",
            "45sec OTP dataset:    Accuracy is  0.9736081597960051\n",
            "50sec OTP dataset:    Accuracy is  0.9749326649708214\n",
            "55sec OTP dataset:    Accuracy is  0.9764057681842916\n",
            "60sec OTP dataset:    Accuracy is  0.97652962644912\n",
            "Average accuracy of coarse Granular OTP dataset 0.9753690548500595\n",
            "Average Accuracy  0.9799553234539478\n"
          ],
          "name": "stdout"
        }
      ]
    },
    {
      "cell_type": "markdown",
      "metadata": {
        "id": "VDD49E8MaHJH"
      },
      "source": [
        "# **Weighted K Nearest Neighbor (W_KNN)**"
      ]
    },
    {
      "cell_type": "code",
      "metadata": {
        "colab": {
          "base_uri": "https://localhost:8080/"
        },
        "id": "rnSRpXECaVDk",
        "outputId": "20d28bf1-633c-438a-c0f2-a96d27dd728d"
      },
      "source": [
        "accuracies = []\n",
        "acc = []\n",
        "for j in range(5,65,5):\n",
        "  if(j >= 25 and j<= 40):\n",
        "    continue\n",
        "  #UPLOADING THE TRAIN DATASET\n",
        "  X = pd.read_csv('802_15_4_MACperf_'+str(j)+'s.csv')\n",
        "\n",
        "\n",
        "  #DATA PREPROCESSING\n",
        "  X = X.sample(frac = 1)\n",
        "  Y = X['COR'].values\n",
        "  kf = KFold(n_splits=10)\n",
        "\n",
        "  X_ = X.drop(\"COR\", axis=1)\n",
        "  X_ = preprocessing.StandardScaler().fit(X_).transform(X_)\n",
        "  label = preprocessing.LabelEncoder()\n",
        "  label.fit([0,20])\n",
        "  Y_ = label.transform(Y) \n",
        "  scores = []\n",
        "  W = 1.65\n",
        "  KNN = KNeighborsClassifier(n_neighbors=15,weights='distance')\n",
        "  for train, test in kf.split(X):\n",
        "    X_train, X_test, Y_train, Y_test = X_[train],X_[test],Y_[train],Y_[test]\n",
        "    KNN.fit(X_train,Y_train)\n",
        "    scores.append(KNN.score(X_test,Y_test))\n",
        "  accuracy = np.mean(scores)\n",
        "  accuracies.append(accuracy)\n",
        "  print(str(j)+\"sec OTP dataset:\",\"   Accuracy is \",accuracy)\n",
        "  if(j == 20):\n",
        "    print(\"Average accuracy of fine Granular OTP dataset\",np.mean(accuracies))\n",
        "    acc.append(np.mean(accuracies))\n",
        "    accuracies = []\n",
        "  if(j == 60):\n",
        "    print(\"Average accuracy of coarse Granular OTP dataset\",np.mean(accuracies))\n",
        "    acc.append(np.mean(accuracies))\n",
        "    accuracies = []\n",
        "print(\"Average Accuracy \",np.mean(acc))"
      ],
      "execution_count": null,
      "outputs": [
        {
          "output_type": "stream",
          "text": [
            "5sec OTP dataset:    Accuracy is  0.992967160471634\n",
            "10sec OTP dataset:    Accuracy is  0.9906081276991866\n",
            "15sec OTP dataset:    Accuracy is  0.9875644005489995\n",
            "20sec OTP dataset:    Accuracy is  0.9867904741358646\n",
            "Average accuracy of fine Granular OTP dataset 0.9894825407139212\n",
            "45sec OTP dataset:    Accuracy is  0.9802076376662013\n",
            "50sec OTP dataset:    Accuracy is  0.9798107137513092\n",
            "55sec OTP dataset:    Accuracy is  0.9824641755849809\n",
            "60sec OTP dataset:    Accuracy is  0.979443967367969\n",
            "Average accuracy of coarse Granular OTP dataset 0.9804816235926151\n",
            "Average Accuracy  0.9849820821532682\n"
          ],
          "name": "stdout"
        }
      ]
    },
    {
      "cell_type": "markdown",
      "metadata": {
        "id": "eVLwjWD9amOP"
      },
      "source": [
        "# **Other**"
      ]
    },
    {
      "cell_type": "code",
      "metadata": {
        "id": "BeXlkFh3EF8A",
        "colab": {
          "base_uri": "https://localhost:8080/"
        },
        "outputId": "fc723238-2e2b-4d64-b608-2e6866e2b7f8"
      },
      "source": [
        "import pandas as pd\n",
        "import numpy as np\n",
        "from sklearn import preprocessing\n",
        "from sklearn.model_selection import train_test_split\n",
        "X = pd.read_csv('802_15_4_MACperf_40s.csv')\n",
        "X = X.sample(frac = 1)\n",
        "Y = X['COR'].values\n",
        "X = X.drop(\"COR\", axis=1)\n",
        "X = preprocessing.StandardScaler().fit(X).transform(X.astype(float))\n",
        "X_train, X_test, Y_train, Y_test = train_test_split( X, Y, test_size=0.2, random_state=4)\n",
        "print(X_train.shape)\n",
        "print(Y_train.shape)\n",
        "print(X_test.shape)\n",
        "print(Y_test.shape)\n"
      ],
      "execution_count": null,
      "outputs": [
        {
          "output_type": "stream",
          "text": [
            "(1640, 7)\n",
            "(1640,)\n",
            "(411, 7)\n",
            "(411,)\n"
          ],
          "name": "stdout"
        }
      ]
    },
    {
      "cell_type": "code",
      "metadata": {
        "id": "z0ph9uVKdOn3",
        "colab": {
          "base_uri": "https://localhost:8080/"
        },
        "outputId": "d56ed30d-15d3-46c9-830b-1ae9557923ce"
      },
      "source": [
        "from sklearn.neighbors import KNeighborsClassifier\n",
        "from sklearn import metrics\n",
        "\n",
        "\n",
        "neigh = KNeighborsClassifier(n_neighbors=2)\n",
        "neigh.fit(X_train, Y_train)\n",
        "yhat6 = neigh.predict(X_test)\n",
        "print(\"Train set Accuracy : \",metrics.accuracy_score(Y_train,neigh.predict(X_train)))\n",
        "print(\"Test set Accuracy : \",metrics.accuracy_score(Y_test,yhat6))"
      ],
      "execution_count": null,
      "outputs": [
        {
          "output_type": "stream",
          "text": [
            "Train set Accuracy :  0.9914634146341463\n",
            "Test set Accuracy :  0.9829683698296837\n"
          ],
          "name": "stdout"
        }
      ]
    },
    {
      "cell_type": "code",
      "metadata": {
        "id": "VC30st8Sd6BH",
        "colab": {
          "base_uri": "https://localhost:8080/"
        },
        "outputId": "e6f1c793-4fb1-459f-c3a5-e4abe9dce051"
      },
      "source": [
        "neigh = KNeighborsClassifier(n_neighbors=50)\n",
        "neigh.fit(X_train, Y_train)\n",
        "yhat6 = neigh.predict(X_test)\n",
        "print(\"Train set Accuracy : \",metrics.accuracy_score(Y_train,neigh.predict(X_train)))\n",
        "print(\"Test set Accuracy : \",metrics.accuracy_score(Y_test,yhat6))"
      ],
      "execution_count": null,
      "outputs": [
        {
          "output_type": "stream",
          "text": [
            "Train set Accuracy :  0.9695121951219512\n",
            "Test set Accuracy :  0.948905109489051\n"
          ],
          "name": "stdout"
        }
      ]
    },
    {
      "cell_type": "code",
      "metadata": {
        "id": "7jGx_-h-djIY",
        "colab": {
          "base_uri": "https://localhost:8080/"
        },
        "outputId": "38fd7bad-f7ff-4082-acee-fb40100778be"
      },
      "source": [
        "neigh = KNeighborsClassifier(n_neighbors=2,metric='cosine')\n",
        "neigh.fit(X_train, Y_train)\n",
        "yhat6 = neigh.predict(X_test)\n",
        "print(\"Train set Accuracy : \",metrics.accuracy_score(Y_train,neigh.predict(X_train)))\n",
        "print(\"Test set Accuracy : \",metrics.accuracy_score(Y_test,yhat6))"
      ],
      "execution_count": null,
      "outputs": [
        {
          "output_type": "stream",
          "text": [
            "Train set Accuracy :  0.9908536585365854\n",
            "Test set Accuracy :  0.9781021897810219\n"
          ],
          "name": "stdout"
        }
      ]
    },
    {
      "cell_type": "code",
      "metadata": {
        "id": "cPr2XtjIeGhE",
        "colab": {
          "base_uri": "https://localhost:8080/"
        },
        "outputId": "2708b89b-7cd5-4b2b-a65c-74c5494a0c37"
      },
      "source": [
        "neigh = KNeighborsClassifier(n_neighbors=100)\n",
        "neigh.fit(X_train, Y_train)\n",
        "yhat6 = neigh.predict(X_test)\n",
        "print(\"Train set Accuracy : \",metrics.accuracy_score(Y_train,neigh.predict(X_train)))\n",
        "print(\"Test set Accuracy : \",metrics.accuracy_score(Y_test,yhat6))"
      ],
      "execution_count": null,
      "outputs": [
        {
          "output_type": "stream",
          "text": [
            "Train set Accuracy :  0.9658536585365853\n",
            "Test set Accuracy :  0.9464720194647201\n"
          ],
          "name": "stdout"
        }
      ]
    },
    {
      "cell_type": "code",
      "metadata": {
        "id": "vvTe4Iq-Dmti",
        "colab": {
          "base_uri": "https://localhost:8080/"
        },
        "outputId": "d0d0eb7c-36de-4d9b-e6f3-bba9f5ebfba9"
      },
      "source": [
        "\n",
        "neigh = KNeighborsClassifier(n_neighbors=2,metric=lambda u, v: np.cbrt(np.absolute((u-v)**3).sum()))\n",
        "neigh.fit(X_train, Y_train)\n",
        "yhat6 = neigh.predict(X_test)\n",
        "print(\"Train set Accuracy : \",metrics.accuracy_score(Y_train,neigh.predict(X_train)))\n",
        "print(\"Test set Accuracy : \",metrics.accuracy_score(Y_test,yhat6))"
      ],
      "execution_count": null,
      "outputs": [
        {
          "output_type": "stream",
          "text": [
            "Train set Accuracy :  0.9914634146341463\n",
            "Test set Accuracy :  0.9854014598540146\n"
          ],
          "name": "stdout"
        }
      ]
    },
    {
      "cell_type": "code",
      "metadata": {
        "id": "nxZiUsP5eUGL",
        "colab": {
          "base_uri": "https://localhost:8080/"
        },
        "outputId": "02a31757-87ed-4c51-8365-04a02a48e6c1"
      },
      "source": [
        "W = [0.30,0.10,0.06,0.15,0.20,0.09,0.10]\n",
        "neigh = KNeighborsClassifier(n_neighbors=2,metric=lambda u, v: np.sqrt(W*(u-v)**2).sum())\n",
        "neigh.fit(X_train, Y_train)\n",
        "yhat6 = neigh.predict(X_test)\n",
        "print(\"Train set Accuracy : \",metrics.accuracy_score(Y_train,neigh.predict(X_train)))\n",
        "print(\"Test set Accuracy : \",metrics.accuracy_score(Y_test,yhat6))"
      ],
      "execution_count": null,
      "outputs": [
        {
          "output_type": "stream",
          "text": [
            "Train set Accuracy :  0.9908536585365854\n",
            "Test set Accuracy :  0.975669099756691\n"
          ],
          "name": "stdout"
        }
      ]
    },
    {
      "cell_type": "code",
      "metadata": {
        "id": "D9deFXPyGzY4"
      },
      "source": [
        "from sklearn import svm\n",
        "import matplotlib.pyplot as plt\n",
        "clf = svm.SVC(C = 0.1,kernel='rbf')\n",
        "clf.fit(X_train, Y_train) \n",
        "yhat = clf.predict(X_test)\n",
        "\n",
        "\n",
        "from sklearn.metrics import classification_report, confusion_matrix\n",
        "import itertools\n",
        "\n",
        "def plot_confusion_matrix(cm, classes,\n",
        "                          normalize=False,\n",
        "                          title='Confusion matrix',\n",
        "                          cmap=plt.cm.Blues):\n",
        "    \"\"\"\n",
        "    This function prints and plots the confusion matrix.\n",
        "    Normalization can be applied by setting `normalize=True`.\n",
        "    \"\"\"\n",
        "    if normalize:\n",
        "        cm = cm.astype('float') / cm.sum(axis=1)[:, np.newaxis]\n",
        "        print(\"Normalized confusion matrix\")\n",
        "    else:\n",
        "        print('Confusion matrix, without normalization')\n",
        "\n",
        "    print(cm)\n",
        "\n",
        "    plt.imshow(cm, interpolation='nearest', cmap=cmap)\n",
        "    plt.title(title)\n",
        "    plt.colorbar()\n",
        "    tick_marks = np.arange(len(classes))\n",
        "    plt.xticks(tick_marks, classes, rotation=45)\n",
        "    plt.yticks(tick_marks, classes)\n",
        "\n",
        "    fmt = '.2f' if normalize else 'd'\n",
        "    thresh = cm.max() / 2.\n",
        "    for i, j in itertools.product(range(cm.shape[0]), range(cm.shape[1])):\n",
        "        plt.text(j, i, format(cm[i, j], fmt),\n",
        "                 horizontalalignment=\"center\",\n",
        "                 color=\"white\" if cm[i, j] > thresh else \"black\")\n",
        "\n",
        "    plt.tight_layout()\n",
        "    plt.ylabel('True label')\n",
        "    plt.xlabel('Predicted label')"
      ],
      "execution_count": null,
      "outputs": []
    },
    {
      "cell_type": "code",
      "metadata": {
        "id": "ygkFrVHrkzbX",
        "colab": {
          "base_uri": "https://localhost:8080/",
          "height": 575
        },
        "outputId": "6be0bc49-0af4-4e56-cf92-c315da9879ca"
      },
      "source": [
        "# Compute confusion matrix\n",
        "cnf_matrix = confusion_matrix(Y_test, yhat, labels=[0,20])\n",
        "np.set_printoptions(precision=2)\n",
        "\n",
        "print (classification_report(Y_test, yhat))\n",
        "\n",
        "# Plot non-normalized confusion matrix\n",
        "plt.figure()\n",
        "plot_confusion_matrix(cnf_matrix, classes=['NonCongested(0)','Congested(20)'],normalize= False,  title='Confusion matrix')\n",
        "\n",
        "from sklearn.metrics import f1_score\n",
        "f1_score(Y_test, yhat, average='weighted') \n",
        "\n",
        "from sklearn.metrics import jaccard_similarity_score\n",
        "jaccard_similarity_score(Y_test, yhat)"
      ],
      "execution_count": null,
      "outputs": [
        {
          "output_type": "stream",
          "text": [
            "              precision    recall  f1-score   support\n",
            "\n",
            "           0       0.88      0.98      0.93       283\n",
            "          20       0.93      0.71      0.81       128\n",
            "\n",
            "    accuracy                           0.89       411\n",
            "   macro avg       0.91      0.84      0.87       411\n",
            "weighted avg       0.90      0.89      0.89       411\n",
            "\n",
            "Confusion matrix, without normalization\n",
            "[[276   7]\n",
            " [ 37  91]]\n"
          ],
          "name": "stdout"
        },
        {
          "output_type": "stream",
          "text": [
            "/usr/local/lib/python3.6/dist-packages/sklearn/metrics/_classification.py:664: FutureWarning: jaccard_similarity_score has been deprecated and replaced with jaccard_score. It will be removed in version 0.23. This implementation has surprising behavior for binary and multiclass classification tasks.\n",
            "  FutureWarning)\n"
          ],
          "name": "stderr"
        },
        {
          "output_type": "execute_result",
          "data": {
            "text/plain": [
              "0.8929440389294404"
            ]
          },
          "metadata": {
            "tags": []
          },
          "execution_count": 30
        },
        {
          "output_type": "display_data",
          "data": {
            "image/png": "[encoded data removed]",
            "text/plain": [
              "<Figure size 432x288 with 2 Axes>"
            ]
          },
          "metadata": {
            "tags": [],
            "needs_background": "light"
          }
        }
      ]
    },
    {
      "cell_type": "code",
      "metadata": {
        "id": "GqrQUJKqlUCu"
      },
      "source": [
        ""
      ],
      "execution_count": null,
      "outputs": []
    }
  ]
}