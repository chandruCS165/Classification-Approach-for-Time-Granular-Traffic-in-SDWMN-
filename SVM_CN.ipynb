{
  "nbformat": 4,
  "nbformat_minor": 0,
  "metadata": {
    "colab": {
      "name": "SVM_CN.ipynb",
      "provenance": [],
      "collapsed_sections": [],
      "authorship_tag": "ABX9TyPzHgRjalZezN2dnD3gEEMZ",
      "include_colab_link": true
    },
    "kernelspec": {
      "name": "python3",
      "display_name": "Python 3"
    }
  },
  "cells": [
    {
      "cell_type": "markdown",
      "metadata": {
        "id": "view-in-github",
        "colab_type": "text"
      },
      "source": [
        "<a href=\"https://colab.research.google.com/github/chandruCS165/Classification-Approach-for-Time-Granular-Traffic-in-SDWMN-/blob/main/SVM_CN.ipynb\" target=\"_parent\"><img src=\"https://colab.research.google.com/assets/colab-badge.svg\" alt=\"Open In Colab\"/></a>"
      ]
    },
    {
      "cell_type": "code",
      "metadata": {
        "id": "0TrpMirj1Yc1",
        "colab": {
          "resources": {
            "http://localhost:8080/nbextensions/google.colab/files.js": {
              "data": "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",
              "ok": true,
              "headers": [
                [
                  "content-type",
                  "application/javascript"
                ]
              ],
              "status": 200,
              "status_text": ""
            }
          },
          "base_uri": "https://localhost:8080/",
          "height": 37
        },
        "outputId": "601d7857-173c-4e30-fe5c-04fbe2af4eb5"
      },
      "source": [
        "import pandas as pd\n",
        "import numpy as np\n",
        "from google.colab import files\n",
        "from sklearn import preprocessing\n",
        "from sklearn import svm\n",
        "from sklearn.model_selection import KFold\n",
        "uploaded = []\n",
        "uploaded.append(files.upload())"
      ],
      "execution_count": null,
      "outputs": [
        {
          "output_type": "display_data",
          "data": {
            "text/html": [
              "\n",
              "     <input type=\"file\" id=\"files-ca76969a-4186-45ef-9df5-827cf160df1b\" name=\"files[]\" multiple disabled\n",
              "        style=\"border:none\" />\n",
              "     <output id=\"result-ca76969a-4186-45ef-9df5-827cf160df1b\">\n",
              "      Upload widget is only available when the cell has been executed in the\n",
              "      current browser session. Please rerun this cell to enable.\n",
              "      </output>\n",
              "      <script src=\"/nbextensions/google.colab/files.js\"></script> "
            ],
            "text/plain": [
              "<IPython.core.display.HTML object>"
            ]
          },
          "metadata": {}
        }
      ]
    },
    {
      "cell_type": "markdown",
      "metadata": {
        "id": "iXy2i2WN0aQE"
      },
      "source": [
        "# **Linear SVM (L_SVM)**"
      ]
    },
    {
      "cell_type": "code",
      "metadata": {
        "colab": {
          "base_uri": "https://localhost:8080/"
        },
        "id": "GQFJGw4d1mQT",
        "outputId": "c50105d5-d36a-4362-8777-9ed9b4aeecd9"
      },
      "source": [
        "accuracies = []\n",
        "\n",
        "acc = []\n",
        "for j in range(5,65,5):\n",
        "  if(j >= 25 and j<= 40):\n",
        "    continue\n",
        "  #UPLOADING THE TRAIN DATASET\n",
        "  X = pd.read_csv('802_15_4_MACperf_'+str(j)+'s.csv')\n",
        "\n",
        "\n",
        "  #DATA PREPROCESSING\n",
        "  X = X.sample(frac = 1)\n",
        "  Y = X['COR'].values\n",
        "  kf = KFold(n_splits=10)\n",
        "\n",
        "  X_ = X.drop(\"COR\", axis=1)\n",
        "  X_ = preprocessing.StandardScaler().fit(X_).transform(X_)\n",
        "  label = preprocessing.LabelEncoder()\n",
        "  label.fit([0,20])\n",
        "  Y_ = label.transform(Y) \n",
        "  scores = []\n",
        "  SVM = svm.SVC(kernel='linear')\n",
        "  for train, test in kf.split(X):\n",
        "    X_train, X_test, Y_train, Y_test = X_[train],X_[test],Y_[train],Y_[test]\n",
        "    SVM.fit(X_train,Y_train)\n",
        "    scores.append(SVM.score(X_test,Y_test))\n",
        "  accuracy = np.mean(scores)\n",
        "  accuracies.append(accuracy)\n",
        "  print(str(j)+\"sec OTP dataset:\",\"   Accuracy is \",accuracy)\n",
        "  if(j == 20):\n",
        "    print(\"Average accuracy of fine Granular OTP dataset\",np.mean(accuracies))\n",
        "    acc.append(np.mean(accuracies))\n",
        "    accuracies = []\n",
        "  if(j == 60):\n",
        "    print(\"Average accuracy of coarse Granular OTP dataset\",np.mean(accuracies))\n",
        "    acc.append(np.mean(accuracies))\n",
        "    accuracies = []\n",
        "print(\"Average Accuracy \",np.mean(acc))"
      ],
      "execution_count": null,
      "outputs": [
        {
          "output_type": "stream",
          "text": [
            "5sec OTP dataset:    Accuracy is  0.9655393314430926\n",
            "10sec OTP dataset:    Accuracy is  0.9619368523859666\n",
            "15sec OTP dataset:    Accuracy is  0.9617686615031278\n",
            "20sec OTP dataset:    Accuracy is  0.962820605014622\n",
            "Average accuracy of fine Granular OTP dataset 0.9630163625867023\n",
            "45sec OTP dataset:    Accuracy is  0.9636998360755266\n",
            "50sec OTP dataset:    Accuracy is  0.9614544366302559\n",
            "55sec OTP dataset:    Accuracy is  0.9635633956103755\n",
            "60sec OTP dataset:    Accuracy is  0.9626556462000858\n",
            "Average accuracy of coarse Granular OTP dataset 0.9628433286290609\n",
            "Average Accuracy  0.9629298456078816\n"
          ],
          "name": "stdout"
        }
      ]
    },
    {
      "cell_type": "markdown",
      "metadata": {
        "id": "fqd8RkQQFe3i"
      },
      "source": [
        "\n",
        "\n",
        "```\n",
        "# This is formatted as code\n",
        "```\n",
        "\n",
        "# **Quadratic SVM (Q_SVM)**"
      ]
    },
    {
      "cell_type": "code",
      "metadata": {
        "id": "5su0Cw_zFcvL",
        "colab": {
          "base_uri": "https://localhost:8080/"
        },
        "outputId": "7573f9f8-9482-4a4d-b72b-b5b308f7b31e"
      },
      "source": [
        "accuracies = []\n",
        "\n",
        "acc = []\n",
        "for j in range(5,65,5):\n",
        "  if(j >= 25 and j<= 40):\n",
        "    continue\n",
        "  #UPLOADING THE TRAIN DATASET\n",
        "  X = pd.read_csv('802_15_4_MACperf_'+str(j)+'s.csv')\n",
        "\n",
        "\n",
        "  #DATA PREPROCESSING\n",
        "  X = X.sample(frac = 1)\n",
        "  Y = X['COR'].values\n",
        "  kf = KFold(n_splits=10)\n",
        "\n",
        "  X_ = X.drop(\"COR\", axis=1)\n",
        "  X_ = preprocessing.StandardScaler().fit(X_).transform(X_)\n",
        "  label = preprocessing.LabelEncoder()\n",
        "  label.fit([0,20])\n",
        "  Y_ = label.transform(Y) \n",
        "  scores = []\n",
        "  SVM = svm.SVC(C = 15,kernel='poly',degree = 2,gamma = 'auto')\n",
        "  for train, test in kf.split(X):\n",
        "    X_train, X_test, Y_train, Y_test = X_[train],X_[test],Y_[train],Y_[test]\n",
        "    SVM.fit(X_train,Y_train)\n",
        "    scores.append(SVM.score(X_test,Y_test))\n",
        "  accuracy = np.mean(scores)\n",
        "  accuracies.append(accuracy)\n",
        "  print(str(j)+\"sec OTP dataset:\",\"   Accuracy is \",accuracy)\n",
        "  if(j == 20):\n",
        "    print(\"Average accuracy of fine Granular OTP dataset\",np.mean(accuracies))\n",
        "    acc.append(np.mean(accuracies))\n",
        "    accuracies = []\n",
        "  if(j == 60):\n",
        "    print(\"Average accuracy of coarse Granular OTP dataset\",np.mean(accuracies))\n",
        "    acc.append(np.mean(accuracies))\n",
        "    accuracies = []\n",
        "print(\"Average Accuracy \",np.mean(acc))"
      ],
      "execution_count": null,
      "outputs": [
        {
          "output_type": "stream",
          "text": [
            "5sec OTP dataset:    Accuracy is  0.9654115767712836\n",
            "10sec OTP dataset:    Accuracy is  0.9639161287368949\n",
            "15sec OTP dataset:    Accuracy is  0.9654750984543868\n",
            "20sec OTP dataset:    Accuracy is  0.9637980008629368\n",
            "Average accuracy of fine Granular OTP dataset 0.9646502012063756\n",
            "45sec OTP dataset:    Accuracy is  0.9582296156881792\n",
            "50sec OTP dataset:    Accuracy is  0.954103695944935\n",
            "55sec OTP dataset:    Accuracy is  0.9514239071286053\n",
            "60sec OTP dataset:    Accuracy is  0.9523829969944181\n",
            "Average accuracy of coarse Granular OTP dataset 0.9540350539390344\n",
            "Average Accuracy  0.959342627572705\n"
          ],
          "name": "stdout"
        }
      ]
    },
    {
      "cell_type": "markdown",
      "metadata": {
        "id": "JrCyAOncfKwo"
      },
      "source": [
        "# **Cubic SVM (C_SVM)**"
      ]
    },
    {
      "cell_type": "code",
      "metadata": {
        "id": "8uUCaRBqfQux",
        "colab": {
          "base_uri": "https://localhost:8080/"
        },
        "outputId": "3a84b4b3-c275-4d14-ff42-7223f4328c03"
      },
      "source": [
        "accuracies = []\n",
        "\n",
        "acc = []\n",
        "for j in range(5,65,5):\n",
        "  if(j >= 25 and j<= 40):\n",
        "    continue\n",
        "  #UPLOADING THE TRAIN DATASET\n",
        "  X = pd.read_csv('802_15_4_MACperf_'+str(j)+'s.csv')\n",
        "\n",
        "\n",
        "  #DATA PREPROCESSING\n",
        "  X = X.sample(frac = 1)\n",
        "  Y = X['COR'].values\n",
        "  kf = KFold(n_splits=10)\n",
        "\n",
        "  X_ = X.drop(\"COR\", axis=1)\n",
        "  X_ = preprocessing.StandardScaler().fit(X_).transform(X_)\n",
        "  label = preprocessing.LabelEncoder()\n",
        "  label.fit([0,20])\n",
        "  Y_ = label.transform(Y) \n",
        "  scores = []\n",
        "  SVM = svm.SVC(C = 20,kernel='poly',degree=3,gamma = 'auto')\n",
        "  for train, test in kf.split(X):\n",
        "    X_train, X_test, Y_train, Y_test = X_[train],X_[test],Y_[train],Y_[test]\n",
        "    SVM.fit(X_train,Y_train)\n",
        "    scores.append(SVM.score(X_test,Y_test))\n",
        "  accuracy = np.mean(scores)\n",
        "  accuracies.append(accuracy)\n",
        "  print(str(j)+\"sec OTP dataset:\",\"   Accuracy is \",accuracy)\n",
        "  if(j == 20):\n",
        "    print(\"Average accuracy of fine Granular OTP dataset\",np.mean(accuracies))\n",
        "    acc.append(np.mean(accuracies))\n",
        "    accuracies = []\n",
        "  if(j == 60):\n",
        "    print(\"Average accuracy of coarse Granular OTP dataset\",np.mean(accuracies))\n",
        "    acc.append(np.mean(accuracies))\n",
        "    accuracies = []\n",
        "print(\"Average Accuracy \",np.mean(acc))"
      ],
      "execution_count": null,
      "outputs": [
        {
          "output_type": "stream",
          "text": [
            "5sec OTP dataset:    Accuracy is  0.9712935620143321\n",
            "10sec OTP dataset:    Accuracy is  0.9715765538921699\n",
            "15sec OTP dataset:    Accuracy is  0.9673362484568008\n",
            "20sec OTP dataset:    Accuracy is  0.9633078047845054\n",
            "Average accuracy of fine Granular OTP dataset 0.968378542286952\n",
            "45sec OTP dataset:    Accuracy is  0.9532663469127558\n",
            "50sec OTP dataset:    Accuracy is  0.9632762232530301\n",
            "55sec OTP dataset:    Accuracy is  0.9534191910030836\n",
            "60sec OTP dataset:    Accuracy is  0.9552866036925721\n",
            "Average accuracy of coarse Granular OTP dataset 0.9563120912153603\n",
            "Average Accuracy  0.9623453167511562\n"
          ],
          "name": "stdout"
        }
      ]
    },
    {
      "cell_type": "markdown",
      "metadata": {
        "id": "G65f9NJW9X1N"
      },
      "source": [
        "# **Fine Gaussian SVM (FG_SVM)**"
      ]
    },
    {
      "cell_type": "code",
      "metadata": {
        "colab": {
          "base_uri": "https://localhost:8080/"
        },
        "id": "EzDzXVBz_u08",
        "outputId": "37f8346d-5213-42fc-914c-aa5955062da0"
      },
      "source": [
        "accuracies = []\n",
        "\n",
        "acc = []\n",
        "for j in range(5,65,5):\n",
        "  if(j >= 25 and j<= 40):\n",
        "    continue\n",
        "  #UPLOADING THE TRAIN DATASET\n",
        "  X = pd.read_csv('802_15_4_MACperf_'+str(j)+'s.csv')\n",
        "\n",
        "\n",
        "  #DATA PREPROCESSING\n",
        "  X = X.sample(frac = 1)\n",
        "  Y = X['COR'].values\n",
        "  kf = KFold(n_splits=10)\n",
        "\n",
        "  X_ = X.drop(\"COR\", axis=1)\n",
        "  X_ = preprocessing.StandardScaler().fit(X_).transform(X_)\n",
        "  label = preprocessing.LabelEncoder()\n",
        "  label.fit([0,20])\n",
        "  Y_ = label.transform(Y) \n",
        "  scores = []\n",
        "  gamma = np.sqrt((1/7))*4\n",
        "  SVM = svm.SVC(C=15,kernel='rbf',gamma = gamma)\n",
        "  for train, test in kf.split(X):\n",
        "    X_train, X_test, Y_train, Y_test = X_[train],X_[test],Y_[train],Y_[test]\n",
        "    SVM.fit(X_train,Y_train)\n",
        "    scores.append(SVM.score(X_test,Y_test))\n",
        "  accuracy = np.mean(scores)\n",
        "  accuracies.append(accuracy)\n",
        "  print(str(j)+\"sec OTP dataset:\",\"   Accuracy is \",accuracy)\n",
        "  if(j == 20):\n",
        "    print(\"Average accuracy of fine Granular OTP dataset\",np.mean(accuracies))\n",
        "    acc.append(np.mean(accuracies))\n",
        "    accuracies = []\n",
        "  if(j == 60):\n",
        "    print(\"Average accuracy of coarse Granular OTP dataset\",np.mean(accuracies))\n",
        "    acc.append(np.mean(accuracies))\n",
        "    accuracies = []\n",
        "print(\"Average Accuracy \",np.mean(acc))"
      ],
      "execution_count": null,
      "outputs": [
        {
          "output_type": "stream",
          "text": [
            "5sec OTP dataset:    Accuracy is  0.9963556212872703\n",
            "10sec OTP dataset:    Accuracy is  0.9944387980893954\n",
            "15sec OTP dataset:    Accuracy is  0.9933185508066019\n",
            "20sec OTP dataset:    Accuracy is  0.9941308308164342\n",
            "Average accuracy of fine Granular OTP dataset 0.9945609502499254\n",
            "45sec OTP dataset:    Accuracy is  0.9851587638880457\n",
            "50sec OTP dataset:    Accuracy is  0.9877599880293282\n",
            "55sec OTP dataset:    Accuracy is  0.9865091601668784\n",
            "60sec OTP dataset:    Accuracy is  0.986813009875483\n",
            "Average accuracy of coarse Granular OTP dataset 0.9865602304899339\n",
            "Average Accuracy  0.9905605903699297\n"
          ],
          "name": "stdout"
        }
      ]
    },
    {
      "cell_type": "markdown",
      "metadata": {
        "id": "IAAIq0M8Cji-"
      },
      "source": [
        "# **Medium Gaussian SVM (MG_SVM)**"
      ]
    },
    {
      "cell_type": "code",
      "metadata": {
        "colab": {
          "base_uri": "https://localhost:8080/"
        },
        "id": "Ns2sciJOAt3l",
        "outputId": "7ecb502d-3b9c-4a7c-e52b-211792724012"
      },
      "source": [
        "accuracies = []\n",
        "\n",
        "acc = []\n",
        "for j in range(5,65,5):\n",
        "  if(j >= 25 and j<= 40):\n",
        "    continue\n",
        "  #UPLOADING THE TRAIN DATASET\n",
        "  X = pd.read_csv('802_15_4_MACperf_'+str(j)+'s.csv')\n",
        "\n",
        "\n",
        "  #DATA PREPROCESSING\n",
        "  X = X.sample(frac = 1)\n",
        "  Y = X['COR'].values\n",
        "  kf = KFold(n_splits=10)\n",
        "\n",
        "  X_ = X.drop(\"COR\", axis=1)\n",
        "  X_ = preprocessing.StandardScaler().fit(X_).transform(X_)\n",
        "  label = preprocessing.LabelEncoder()\n",
        "  label.fit([0,20])\n",
        "  Y_ = label.transform(Y) \n",
        "  scores = []\n",
        "  gamma = np.sqrt((1/7))\n",
        "  SVM = svm.SVC(C=15,kernel='rbf',gamma = gamma)\n",
        "  for train, test in kf.split(X):\n",
        "    X_train, X_test, Y_train, Y_test = X_[train],X_[test],Y_[train],Y_[test]\n",
        "    SVM.fit(X_train,Y_train)\n",
        "    scores.append(SVM.score(X_test,Y_test))\n",
        "  accuracy = np.mean(scores)\n",
        "  accuracies.append(accuracy)\n",
        "  print(str(j)+\"sec OTP dataset:\",\"   Accuracy is \",accuracy)\n",
        "  if(j == 20):\n",
        "    print(\"Average accuracy of fine Granular OTP dataset\",np.mean(accuracies))\n",
        "    acc.append(np.mean(accuracies))\n",
        "    accuracies = []\n",
        "  if(j == 60):\n",
        "    print(\"Average accuracy of coarse Granular OTP dataset\",np.mean(accuracies))\n",
        "    acc.append(np.mean(accuracies))\n",
        "    accuracies = []\n",
        "print(\"Average Accuracy \",np.mean(acc))"
      ],
      "execution_count": null,
      "outputs": [
        {
          "output_type": "stream",
          "text": [
            "5sec OTP dataset:    Accuracy is  0.9942458919948033\n",
            "10sec OTP dataset:    Accuracy is  0.9934511437684078\n",
            "15sec OTP dataset:    Accuracy is  0.9927619645357298\n",
            "20sec OTP dataset:    Accuracy is  0.9924145452802147\n",
            "Average accuracy of fine Granular OTP dataset 0.993218386394789\n",
            "45sec OTP dataset:    Accuracy is  0.988455467184749\n",
            "50sec OTP dataset:    Accuracy is  0.9834804728415382\n",
            "55sec OTP dataset:    Accuracy is  0.9865136949029567\n",
            "60sec OTP dataset:    Accuracy is  0.9780270502361528\n",
            "Average accuracy of coarse Granular OTP dataset 0.9841191712913493\n",
            "Average Accuracy  0.9886687788430691\n"
          ],
          "name": "stdout"
        }
      ]
    },
    {
      "cell_type": "markdown",
      "metadata": {
        "id": "zw6PyJ34DiV1"
      },
      "source": [
        "# **Coarse Gaussian SVM(CG_SVM)**"
      ]
    },
    {
      "cell_type": "code",
      "metadata": {
        "colab": {
          "base_uri": "https://localhost:8080/"
        },
        "id": "WdXP7CnjBSsK",
        "outputId": "543386a3-4d9e-412c-b68e-042d2cfb0a19"
      },
      "source": [
        "accuracies = []\n",
        "\n",
        "acc = []\n",
        "for j in range(5,65,5):\n",
        "  if(j >= 25 and j<= 40):\n",
        "    continue\n",
        "  #UPLOADING THE TRAIN DATASET\n",
        "  X = pd.read_csv('802_15_4_MACperf_'+str(j)+'s.csv')\n",
        "\n",
        "\n",
        "  #DATA PREPROCESSING\n",
        "  X = X.sample(frac = 1)\n",
        "  Y = X['COR'].values\n",
        "  kf = KFold(n_splits=10)\n",
        "\n",
        "  X_ = X.drop(\"COR\", axis=1)\n",
        "  X_ = preprocessing.StandardScaler().fit(X_).transform(X_)\n",
        "  label = preprocessing.LabelEncoder()\n",
        "  label.fit([0,20])\n",
        "  Y_ = label.transform(Y) \n",
        "  scores = []\n",
        "  gamma = np.sqrt((1/7))/4\n",
        "  SVM = svm.SVC(C=15,kernel='rbf',gamma = gamma)\n",
        "  for train, test in kf.split(X):\n",
        "    X_train, X_test, Y_train, Y_test = X_[train],X_[test],Y_[train],Y_[test]\n",
        "    SVM.fit(X_train,Y_train)\n",
        "    scores.append(SVM.score(X_test,Y_test))\n",
        "  accuracy = np.mean(scores)\n",
        "  accuracies.append(accuracy)\n",
        "  print(str(j)+\"sec OTP dataset:\",\"   Accuracy is \",accuracy)\n",
        "  if(j == 20):\n",
        "    print(\"Average accuracy of fine Granular OTP dataset\",np.mean(accuracies))\n",
        "    acc.append(np.mean(accuracies))\n",
        "    accuracies = []\n",
        "  if(j == 60):\n",
        "    print(\"Average accuracy of coarse Granular OTP dataset\",np.mean(accuracies))\n",
        "    acc.append(np.mean(accuracies))\n",
        "    accuracies = []\n",
        "print(\"Average Accuracy \",np.mean(acc))"
      ],
      "execution_count": null,
      "outputs": [
        {
          "output_type": "stream",
          "text": [
            "5sec OTP dataset:    Accuracy is  0.9887476610313524\n",
            "10sec OTP dataset:    Accuracy is  0.9883833112057256\n",
            "15sec OTP dataset:    Accuracy is  0.9870095385230806\n",
            "20sec OTP dataset:    Accuracy is  0.9867910733975741\n",
            "Average accuracy of fine Granular OTP dataset 0.9877328960394332\n",
            "45sec OTP dataset:    Accuracy is  0.9785592860178497\n",
            "50sec OTP dataset:    Accuracy is  0.978598683226096\n",
            "55sec OTP dataset:    Accuracy is  0.9804598222383458\n",
            "60sec OTP dataset:    Accuracy is  0.9772810218978101\n",
            "Average accuracy of coarse Granular OTP dataset 0.9787247033450255\n",
            "Average Accuracy  0.9832287996922293\n"
          ],
          "name": "stdout"
        }
      ]
    },
    {
      "cell_type": "markdown",
      "metadata": {
        "id": "g86ZO3y70peB"
      },
      "source": [
        "# **Other**"
      ]
    },
    {
      "cell_type": "code",
      "metadata": {
        "id": "R3KnHAYFDtIV"
      },
      "source": [
        "def my_kernel(X,Y):\n",
        "    K = np.zeros((X.shape[0],Y.shape[0]))\n",
        "    for i,x in enumerate(X):\n",
        "        for j,y in enumerate(Y):\n",
        "            K[i,j] = np.exp(-1*np.linalg.norm(x-y)**2)\n",
        "    return K\n",
        "def gaussianKernelGramMatrixFull(X1, X2, sigma=0.1):\n",
        "    \"\"\"(Pre)calculates Gram Matrix K\"\"\"\n",
        "\n",
        "    gram_matrix = np.zeros((X1.shape[0], X2.shape[0]))\n",
        "    for i, x1 in enumerate(X1):\n",
        "        for j, x2 in enumerate(X2):\n",
        "            x1 = x1.flatten()\n",
        "            x2 = x2.flatten()\n",
        "            gram_matrix[i, j] = np.exp(- np.sum( np.power((x1 - x2),2) ) / float(4*(np.sqrt(sigma)) ) )\n",
        "    return gram_matrix"
      ],
      "execution_count": null,
      "outputs": []
    },
    {
      "cell_type": "code",
      "metadata": {
        "id": "ag9PkeFQDtTH"
      },
      "source": [
        "\n",
        "for i in range(5,65,5):\n",
        "\n",
        "\n",
        "  #UPLOADING THE TRAIN DATASET\n",
        "  X = pd.read_csv('802_15_4_MACperf_'+str(i)+'s.csv')\n",
        "\n",
        "\n",
        "  #DATA PREPROCESSING\n",
        "  X = X.sample(frac = 1)\n",
        "  Y = X['COR'].values\n",
        "  X = X.drop(\"COR\", axis=1)\n",
        "  X = preprocessing.StandardScaler().fit(X).transform(X.astype(float))\n",
        "  X_train, X_test, Y_train, Y_test = train_test_split( X, Y, test_size=0.2, random_state=4)\n",
        "  print(\"Shape of the input training dataset\")\n",
        "  print(X_train.shape)\n",
        "  print(\"Shape of the output training dataset\")\n",
        "  print(Y_train.shape)\n",
        "  #print(\"Shape of the input testing dataset\")\n",
        "  #print(X_test.shape)\n",
        "  #print(\"Shape  of the output testing dataset\")\n",
        "  #print(Y_test.shape)\n",
        "\n",
        "\n",
        "  #IMPLEMENTING LINEAR SVM\n",
        "  clf = svm.SVC( kernel=\"precomputed\",gamma=0.1)\n",
        "  model = clf.fit( gaussianKernelGramMatrixFull(X_train,X_train), Y_train )\n",
        "  p = model.predict( gaussianKernelGramMatrixFull(X_test, X_train) )\n",
        "\n",
        "\n",
        "  #COMPUTE CONFUSION MATRIX\n",
        "  cnf_matrix = confusion_matrix(Y_test, p, labels=[0,20])\n",
        "  np.set_printoptions(precision=2)\n",
        "  print (classification_report(Y_test, p))\n",
        "\n",
        "  # PLOT NON NORMALISED CONFUSION MATRIX\n",
        "  plt.figure()\n",
        "  plot_confusion_matrix(cnf_matrix, classes=['NonCongested(0)','Congested(20)'],normalize= False,  title='Confusion matrix')\n",
        "\n",
        "  #f1_score(Y_test, p, average='weighted') \n",
        "  #jaccard_similarity_score(Y_test, p)"
      ],
      "execution_count": null,
      "outputs": []
    },
    {
      "cell_type": "code",
      "metadata": {
        "id": "jWTdiX6RA7YM"
      },
      "source": [
        "#UPLOADING THE TRAIN DATASET\n",
        "#uploaded = []\n",
        "#from google.colab import files\n",
        "#for i in range(10):\n",
        "# uploaded.append(files.upload())"
      ],
      "execution_count": null,
      "outputs": []
    },
    {
      "cell_type": "code",
      "metadata": {
        "id": "WTBOlDPfA9uo"
      },
      "source": [
        "import pandas as pd\n",
        "import numpy as np\n",
        "from sklearn import preprocessing\n",
        "from sklearn.model_selection import train_test_split\n",
        "X = pd.read_csv('802_15_4_MACperf_5s.csv')\n",
        "X = X.sample(frac = 1)\n",
        "Y = X['COR'].values\n",
        "X = X.drop(\"COR\", axis=1)\n",
        "X = preprocessing.StandardScaler().fit(X).transform(X.astype(float))\n",
        "X_train, X_test, Y_train, Y_test = train_test_split( X, Y, test_size=0.2, random_state=4)\n",
        "print(X_train.shape)\n",
        "print(Y_train.shape)\n",
        "print(X_test.shape)\n",
        "print(Y_test.shape)\n"
      ],
      "execution_count": null,
      "outputs": []
    },
    {
      "cell_type": "code",
      "metadata": {
        "id": "oI6rpCK_-bTy"
      },
      "source": [
        "import numpy as np\n",
        "from sklearn import svm\n",
        "\n",
        "\n",
        "\n",
        "C=0.1\n"
      ],
      "execution_count": null,
      "outputs": []
    },
    {
      "cell_type": "code",
      "metadata": {
        "id": "X9YtKk80DeED"
      },
      "source": [
        "from sklearn import svm\n",
        "import matplotlib.pyplot as plt\n",
        "#clf = svm.SVC(C = 0.1,kernel='rbf')\n",
        "#clf.fit(X_train, Y_train) \n",
        "\n",
        "\n",
        "from sklearn.metrics import classification_report, confusion_matrix\n",
        "import itertools\n",
        "\n",
        "def plot_confusion_matrix(cm, classes,\n",
        "                          normalize=False,\n",
        "                          title='Confusion matrix',\n",
        "                          cmap=plt.cm.Blues):\n",
        "    \"\"\"\n",
        "    This function prints and plots the confusion matrix.\n",
        "    Normalization can be applied by setting `normalize=True`.\n",
        "    \"\"\"\n",
        "    if normalize:\n",
        "        cm = cm.astype('float') / cm.sum(axis=1)[:, np.newaxis]\n",
        "        print(\"Normalized confusion matrix\")\n",
        "    else:\n",
        "        print('Confusion matrix, without normalization')\n",
        "\n",
        "    print(cm)\n",
        "\n",
        "    plt.imshow(cm, interpolation='nearest', cmap=cmap)\n",
        "    plt.title(title)\n",
        "    plt.colorbar()\n",
        "    tick_marks = np.arange(len(classes))\n",
        "    plt.xticks(tick_marks, classes, rotation=45)\n",
        "    plt.yticks(tick_marks, classes)\n",
        "\n",
        "    fmt = '.2f' if normalize else 'd'\n",
        "    thresh = cm.max() / 2.\n",
        "    for i, j in itertools.product(range(cm.shape[0]), range(cm.shape[1])):\n",
        "        plt.text(j, i, format(cm[i, j], fmt),\n",
        "                 horizontalalignment=\"center\",\n",
        "                 color=\"white\" if cm[i, j] > thresh else \"black\")\n",
        "\n",
        "    plt.tight_layout()\n",
        "    plt.ylabel('True label')\n",
        "    plt.xlabel('Predicted label')"
      ],
      "execution_count": null,
      "outputs": []
    },
    {
      "cell_type": "code",
      "metadata": {
        "id": "7YRoDhbZEvpH"
      },
      "source": [
        "# Compute confusion matrix\n",
        "cnf_matrix = confusion_matrix(Y_test, p, labels=[0,20])\n",
        "np.set_printoptions(precision=2)\n",
        "\n",
        "print (classification_report(Y_test, p))\n",
        "\n",
        "# Plot non-normalized confusion matrix\n",
        "plt.figure()\n",
        "plot_confusion_matrix(cnf_matrix, classes=['NonCongested(0)','Congested(20)'],normalize= False,  title='Confusion matrix')\n",
        "\n",
        "from sklearn.metrics import f1_score\n",
        "f1_score(Y_test, p, average='weighted') \n",
        "\n",
        "from sklearn.metrics import jaccard_similarity_score\n",
        "jaccard_similarity_score(Y_test, p)"
      ],
      "execution_count": null,
      "outputs": []
    },
    {
      "cell_type": "code",
      "metadata": {
        "id": "D8Z70Y9SOPak"
      },
      "source": [
        ""
      ],
      "execution_count": null,
      "outputs": []
    },
    {
      "cell_type": "code",
      "metadata": {
        "id": "4Mn954JkCsqJ"
      },
      "source": [
        "def my_kernel(X,Y):\n",
        "    K = np.zeros((X.shape[0],Y.shape[0]))\n",
        "    for i,x in enumerate(X):\n",
        "        for j,y in enumerate(Y):\n",
        "            K[i,j] = np.exp(-1*np.linalg.norm(x-y)**2)\n",
        "    return K\n",
        "def gaussianKernelGramMatrixFull(X1, X2, sigma=0.1):\n",
        "    \"\"\"(Pre)calculates Gram Matrix K\"\"\"\n",
        "\n",
        "    gram_matrix = np.zeros((X1.shape[0], X2.shape[0]))\n",
        "    for i, x1 in enumerate(X1):\n",
        "        for j, x2 in enumerate(X2):\n",
        "            x1 = x1.flatten()\n",
        "            x2 = x2.flatten()\n",
        "            gram_matrix[i, j] = np.exp(- np.sum( np.power((x1 - x2),2) ) / float((np.sqrt(sigma)) ) )\n",
        "    return gram_matrix"
      ],
      "execution_count": null,
      "outputs": []
    },
    {
      "cell_type": "code",
      "metadata": {
        "id": "fVAAxk8VDNis",
        "colab": {
          "base_uri": "https://localhost:8080/",
          "height": 402
        },
        "outputId": "127ae14a-214b-4bef-b336-8d09b4f3a49b"
      },
      "source": [
        "\n",
        "for i in range(5,65,5):\n",
        "\n",
        "\n",
        "  #UPLOADING THE TRAIN DATASET\n",
        "  X = pd.read_csv('802_15_4_MACperf_'+str(i)+'s.csv')\n",
        "\n",
        "\n",
        "  #DATA PREPROCESSING\n",
        "  X = X.sample(frac = 1)\n",
        "  Y = X['COR'].values\n",
        "  X = X.drop(\"COR\", axis=1)\n",
        "  X = preprocessing.StandardScaler().fit(X).transform(X.astype(float))\n",
        "  X_train, X_test, Y_train, Y_test = train_test_split( X, Y, test_size=0.2, random_state=4)\n",
        "  print(\"Shape of the input training dataset\")\n",
        "  print(X_train.shape)\n",
        "  print(\"Shape of the output training dataset\")\n",
        "  print(Y_train.shape)\n",
        "  #print(\"Shape of the input testing dataset\")\n",
        "  #print(X_test.shape)\n",
        "  #print(\"Shape  of the output testing dataset\")\n",
        "  #print(Y_test.shape)\n",
        "\n",
        "\n",
        "  #IMPLEMENTING LINEAR SVM\n",
        "  clf = svm.SVC( kernel=\"precomputed\")\n",
        "  model = clf.fit( gaussianKernelGramMatrixFull(X_train,X_train), Y_train )\n",
        "  p = model.predict( gaussianKernelGramMatrixFull(X_test, X_train) )\n",
        "\n",
        "\n",
        "  #COMPUTE CONFUSION MATRIX\n",
        "  cnf_matrix = confusion_matrix(Y_test, p, labels=[0,20])\n",
        "  np.set_printoptions(precision=2)\n",
        "  print (classification_report(Y_test, p))\n",
        "\n",
        "  # PLOT NON NORMALISED CONFUSION MATRIX\n",
        "  plt.figure()\n",
        "  plot_confusion_matrix(cnf_matrix, classes=['NonCongested(0)','Congested(20)'],normalize= False,  title='Confusion matrix')\n",
        "\n",
        "  #f1_score(Y_test, p, average='weighted') \n",
        "  #jaccard_similarity_score(Y_test, p)"
      ],
      "execution_count": null,
      "outputs": [
        {
          "output_type": "stream",
          "text": [
            "Shape of the input training dataset\n",
            "(12512, 7)\n",
            "Shape of the output training dataset\n",
            "(12512,)\n"
          ],
          "name": "stdout"
        },
        {
          "output_type": "error",
          "ename": "KeyboardInterrupt",
          "evalue": "ignored",
          "traceback": [
            "\u001b[0;31m---------------------------------------------------------------------------\u001b[0m",
            "\u001b[0;31mKeyboardInterrupt\u001b[0m                         Traceback (most recent call last)",
            "\u001b[0;32m<ipython-input-16-5f6d95e82ca3>\u001b[0m in \u001b[0;36m<module>\u001b[0;34m()\u001b[0m\n\u001b[1;32m     25\u001b[0m   \u001b[0;31m#IMPLEMENTING LINEAR SVM\u001b[0m\u001b[0;34m\u001b[0m\u001b[0;34m\u001b[0m\u001b[0;34m\u001b[0m\u001b[0m\n\u001b[1;32m     26\u001b[0m   \u001b[0mclf\u001b[0m \u001b[0;34m=\u001b[0m \u001b[0msvm\u001b[0m\u001b[0;34m.\u001b[0m\u001b[0mSVC\u001b[0m\u001b[0;34m(\u001b[0m \u001b[0mkernel\u001b[0m\u001b[0;34m=\u001b[0m\u001b[0;34m\"precomputed\"\u001b[0m\u001b[0;34m,\u001b[0m\u001b[0mgamma\u001b[0m\u001b[0;34m=\u001b[0m\u001b[0;36m0.1\u001b[0m\u001b[0;34m)\u001b[0m\u001b[0;34m\u001b[0m\u001b[0;34m\u001b[0m\u001b[0m\n\u001b[0;32m---> 27\u001b[0;31m   \u001b[0mmodel\u001b[0m \u001b[0;34m=\u001b[0m \u001b[0mclf\u001b[0m\u001b[0;34m.\u001b[0m\u001b[0mfit\u001b[0m\u001b[0;34m(\u001b[0m \u001b[0mgaussianKernelGramMatrixFull\u001b[0m\u001b[0;34m(\u001b[0m\u001b[0mX_train\u001b[0m\u001b[0;34m,\u001b[0m\u001b[0mX_train\u001b[0m\u001b[0;34m)\u001b[0m\u001b[0;34m,\u001b[0m \u001b[0mY_train\u001b[0m \u001b[0;34m)\u001b[0m\u001b[0;34m\u001b[0m\u001b[0;34m\u001b[0m\u001b[0m\n\u001b[0m\u001b[1;32m     28\u001b[0m   \u001b[0mp\u001b[0m \u001b[0;34m=\u001b[0m \u001b[0mmodel\u001b[0m\u001b[0;34m.\u001b[0m\u001b[0mpredict\u001b[0m\u001b[0;34m(\u001b[0m \u001b[0mgaussianKernelGramMatrixFull\u001b[0m\u001b[0;34m(\u001b[0m\u001b[0mX_test\u001b[0m\u001b[0;34m,\u001b[0m \u001b[0mX_train\u001b[0m\u001b[0;34m)\u001b[0m \u001b[0;34m)\u001b[0m\u001b[0;34m\u001b[0m\u001b[0;34m\u001b[0m\u001b[0m\n\u001b[1;32m     29\u001b[0m \u001b[0;34m\u001b[0m\u001b[0m\n",
            "\u001b[0;32m<ipython-input-15-9c45239368b8>\u001b[0m in \u001b[0;36mgaussianKernelGramMatrixFull\u001b[0;34m(X1, X2, sigma)\u001b[0m\n\u001b[1;32m     10\u001b[0m     \u001b[0mgram_matrix\u001b[0m \u001b[0;34m=\u001b[0m \u001b[0mnp\u001b[0m\u001b[0;34m.\u001b[0m\u001b[0mzeros\u001b[0m\u001b[0;34m(\u001b[0m\u001b[0;34m(\u001b[0m\u001b[0mX1\u001b[0m\u001b[0;34m.\u001b[0m\u001b[0mshape\u001b[0m\u001b[0;34m[\u001b[0m\u001b[0;36m0\u001b[0m\u001b[0;34m]\u001b[0m\u001b[0;34m,\u001b[0m \u001b[0mX2\u001b[0m\u001b[0;34m.\u001b[0m\u001b[0mshape\u001b[0m\u001b[0;34m[\u001b[0m\u001b[0;36m0\u001b[0m\u001b[0;34m]\u001b[0m\u001b[0;34m)\u001b[0m\u001b[0;34m)\u001b[0m\u001b[0;34m\u001b[0m\u001b[0;34m\u001b[0m\u001b[0m\n\u001b[1;32m     11\u001b[0m     \u001b[0;32mfor\u001b[0m \u001b[0mi\u001b[0m\u001b[0;34m,\u001b[0m \u001b[0mx1\u001b[0m \u001b[0;32min\u001b[0m \u001b[0menumerate\u001b[0m\u001b[0;34m(\u001b[0m\u001b[0mX1\u001b[0m\u001b[0;34m)\u001b[0m\u001b[0;34m:\u001b[0m\u001b[0;34m\u001b[0m\u001b[0;34m\u001b[0m\u001b[0m\n\u001b[0;32m---> 12\u001b[0;31m         \u001b[0;32mfor\u001b[0m \u001b[0mj\u001b[0m\u001b[0;34m,\u001b[0m \u001b[0mx2\u001b[0m \u001b[0;32min\u001b[0m \u001b[0menumerate\u001b[0m\u001b[0;34m(\u001b[0m\u001b[0mX2\u001b[0m\u001b[0;34m)\u001b[0m\u001b[0;34m:\u001b[0m\u001b[0;34m\u001b[0m\u001b[0;34m\u001b[0m\u001b[0m\n\u001b[0m\u001b[1;32m     13\u001b[0m             \u001b[0mx1\u001b[0m \u001b[0;34m=\u001b[0m \u001b[0mx1\u001b[0m\u001b[0;34m.\u001b[0m\u001b[0mflatten\u001b[0m\u001b[0;34m(\u001b[0m\u001b[0;34m)\u001b[0m\u001b[0;34m\u001b[0m\u001b[0;34m\u001b[0m\u001b[0m\n\u001b[1;32m     14\u001b[0m             \u001b[0mx2\u001b[0m \u001b[0;34m=\u001b[0m \u001b[0mx2\u001b[0m\u001b[0;34m.\u001b[0m\u001b[0mflatten\u001b[0m\u001b[0;34m(\u001b[0m\u001b[0;34m)\u001b[0m\u001b[0;34m\u001b[0m\u001b[0;34m\u001b[0m\u001b[0m\n",
            "\u001b[0;31mKeyboardInterrupt\u001b[0m: "
          ]
        }
      ]
    },
    {
      "cell_type": "code",
      "metadata": {
        "id": "S9LOxh3V0p5n"
      },
      "source": [
        "\n",
        "from sklearn.metrics import classification_report, confusion_matrix\n",
        "import itertools\n",
        "\n",
        "\n",
        "\n",
        "def plot_confusion_matrix(cm, classes,\n",
        "                          normalize=False,\n",
        "                          title='Confusion matrix',\n",
        "                          cmap=plt.cm.Blues):\n",
        "    \"\"\"\n",
        "    This function prints and plots the confusion matrix.\n",
        "    Normalization can be applied by setting `normalize=True`.\n",
        "    \"\"\"\n",
        "    if normalize:\n",
        "        cm = cm.astype('float') / cm.sum(axis=1)[:, np.newaxis]\n",
        "        print(\"Normalized confusion matrix\")\n",
        "    else:\n",
        "        print('Confusion matrix, without normalization')\n",
        "\n",
        "    print(cm)\n",
        "\n",
        "    plt.imshow(cm, interpolation='nearest', cmap=cmap)\n",
        "    plt.title(title)\n",
        "    plt.colorbar()\n",
        "    tick_marks = np.arange(len(classes))\n",
        "    plt.xticks(tick_marks, classes, rotation=45)\n",
        "    plt.yticks(tick_marks, classes)\n",
        "\n",
        "    fmt = '.2f' if normalize else 'd'\n",
        "    thresh = cm.max() / 2.\n",
        "    for i, j in itertools.product(range(cm.shape[0]), range(cm.shape[1])):\n",
        "        plt.text(j, i, format(cm[i, j], fmt),\n",
        "                 horizontalalignment=\"center\",\n",
        "                 color=\"white\" if cm[i, j] > thresh else \"black\")\n",
        "\n",
        "    plt.tight_layout()\n",
        "    plt.ylabel('True label')\n",
        "    plt.xlabel('Predicted label')"
      ],
      "execution_count": null,
      "outputs": []
    },
    {
      "cell_type": "code",
      "metadata": {
        "id": "VsqF4iVOPRgr"
      },
      "source": [
        "def my_kernel(X,Y):\n",
        "    K = np.zeros((X.shape[0],Y.shape[0]))\n",
        "    for i,x in enumerate(X):\n",
        "        for j,y in enumerate(Y):\n",
        "            K[i,j] = np.exp(-(np.sqrt(0.1)/4)*np.linalg.norm(x-y)**2)\n",
        "    return K\n",
        "def gaussianKernelGramMatrixFull(X1, X2, sigma=0.1):\n",
        "    \"\"\"(Pre)calculates Gram Matrix K\"\"\"\n",
        "\n",
        "    gram_matrix = np.zeros((X1.shape[0], X2.shape[0]))\n",
        "    for i, x1 in enumerate(X1):\n",
        "        for j, x2 in enumerate(X2):\n",
        "            x1 = x1.flatten()\n",
        "            x2 = x2.flatten()\n",
        "            gram_matrix[i, j] = np.exp(-np.sum( np.power((x1 - x2),2) ) / float(4/(np.sqrt(sigma)) ) )\n",
        "    return gram_matrix"
      ],
      "execution_count": null,
      "outputs": []
    },
    {
      "cell_type": "code",
      "metadata": {
        "id": "sedrf-Ka_8oG",
        "colab": {
          "base_uri": "https://localhost:8080/",
          "height": 458
        },
        "outputId": "1b411647-8d66-4ed2-a15d-4175166c25d8"
      },
      "source": [
        "\n",
        "for i in range(5,65,5):\n",
        "\n",
        "\n",
        "  #UPLOADING THE TRAIN DATASET\n",
        "  X = pd.read_csv('802_15_4_MACperf_'+str(i)+'s.csv')\n",
        "\n",
        "\n",
        "  #DATA PREPROCESSING\n",
        "  X = X.sample(frac = 1)\n",
        "  Y = X['COR'].values\n",
        "  X = X.drop(\"COR\", axis=1)\n",
        "  X = preprocessing.StandardScaler().fit(X).transform(X.astype(float))\n",
        "  X_train, X_test, Y_train, Y_test = train_test_split( X, Y, test_size=0.2, random_state=4)\n",
        "  print(\"Shape of the input training dataset\")\n",
        "  print(X_train.shape)\n",
        "  print(\"Shape of the output training dataset\")\n",
        "  print(Y_train.shape)\n",
        "\n",
        "  #IMPLEMENTING LINEAR SVM\n",
        "  clf = svm.SVC( kernel=my_kernel)\n",
        "  model = clf.fit(X_train, Y_train )\n",
        "  p = model.predict()\n",
        "\n",
        "\n",
        "  '''#IMPLEMENTING LINEAR SVM\n",
        "  clf = svm.SVC( kernel=\"precomputed\")\n",
        "  model = clf.fit( gaussianKernelGramMatrixFull(X_train,X_train), Y_train )\n",
        "  p = model.predict( gaussianKernelGramMatrixFull(X_test, X_train) )'''\n",
        "\n",
        "\n",
        "  #COMPUTE CONFUSION MATRIX\n",
        "  #cnf_matrix = confusion_matrix(Y_test, p, labels=[0,20])\n",
        "  #np.set_printoptions(precision=2)\n",
        "  print (classification_report(Y_test, p))\n"
      ],
      "execution_count": null,
      "outputs": [
        {
          "output_type": "stream",
          "text": [
            "Shape of the input training dataset\n",
            "(12512, 7)\n",
            "Shape of the output training dataset\n",
            "(12512,)\n"
          ],
          "name": "stdout"
        },
        {
          "output_type": "error",
          "ename": "KeyboardInterrupt",
          "evalue": "ignored",
          "traceback": [
            "\u001b[0;31m---------------------------------------------------------------------------\u001b[0m",
            "\u001b[0;31mKeyboardInterrupt\u001b[0m                         Traceback (most recent call last)",
            "\u001b[0;32m<ipython-input-8-0b4f5c4c2cb4>\u001b[0m in \u001b[0;36m<module>\u001b[0;34m()\u001b[0m\n\u001b[1;32m     20\u001b[0m   \u001b[0;31m#IMPLEMENTING LINEAR SVM\u001b[0m\u001b[0;34m\u001b[0m\u001b[0;34m\u001b[0m\u001b[0;34m\u001b[0m\u001b[0m\n\u001b[1;32m     21\u001b[0m   \u001b[0mclf\u001b[0m \u001b[0;34m=\u001b[0m \u001b[0msvm\u001b[0m\u001b[0;34m.\u001b[0m\u001b[0mSVC\u001b[0m\u001b[0;34m(\u001b[0m \u001b[0mkernel\u001b[0m\u001b[0;34m=\u001b[0m\u001b[0mmy_kernel\u001b[0m\u001b[0;34m)\u001b[0m\u001b[0;34m\u001b[0m\u001b[0;34m\u001b[0m\u001b[0m\n\u001b[0;32m---> 22\u001b[0;31m   \u001b[0mmodel\u001b[0m \u001b[0;34m=\u001b[0m \u001b[0mclf\u001b[0m\u001b[0;34m.\u001b[0m\u001b[0mfit\u001b[0m\u001b[0;34m(\u001b[0m\u001b[0mX_train\u001b[0m\u001b[0;34m,\u001b[0m \u001b[0mY_train\u001b[0m \u001b[0;34m)\u001b[0m\u001b[0;34m\u001b[0m\u001b[0;34m\u001b[0m\u001b[0m\n\u001b[0m\u001b[1;32m     23\u001b[0m   \u001b[0mp\u001b[0m \u001b[0;34m=\u001b[0m \u001b[0mmodel\u001b[0m\u001b[0;34m.\u001b[0m\u001b[0mpredict\u001b[0m\u001b[0;34m(\u001b[0m\u001b[0;34m)\u001b[0m\u001b[0;34m\u001b[0m\u001b[0;34m\u001b[0m\u001b[0m\n\u001b[1;32m     24\u001b[0m \u001b[0;34m\u001b[0m\u001b[0m\n",
            "\u001b[0;32m/usr/local/lib/python3.6/dist-packages/sklearn/svm/_base.py\u001b[0m in \u001b[0;36mfit\u001b[0;34m(self, X, y, sample_weight)\u001b[0m\n\u001b[1;32m    197\u001b[0m \u001b[0;34m\u001b[0m\u001b[0m\n\u001b[1;32m    198\u001b[0m         \u001b[0mseed\u001b[0m \u001b[0;34m=\u001b[0m \u001b[0mrnd\u001b[0m\u001b[0;34m.\u001b[0m\u001b[0mrandint\u001b[0m\u001b[0;34m(\u001b[0m\u001b[0mnp\u001b[0m\u001b[0;34m.\u001b[0m\u001b[0miinfo\u001b[0m\u001b[0;34m(\u001b[0m\u001b[0;34m'i'\u001b[0m\u001b[0;34m)\u001b[0m\u001b[0;34m.\u001b[0m\u001b[0mmax\u001b[0m\u001b[0;34m)\u001b[0m\u001b[0;34m\u001b[0m\u001b[0;34m\u001b[0m\u001b[0m\n\u001b[0;32m--> 199\u001b[0;31m         \u001b[0mfit\u001b[0m\u001b[0;34m(\u001b[0m\u001b[0mX\u001b[0m\u001b[0;34m,\u001b[0m \u001b[0my\u001b[0m\u001b[0;34m,\u001b[0m \u001b[0msample_weight\u001b[0m\u001b[0;34m,\u001b[0m \u001b[0msolver_type\u001b[0m\u001b[0;34m,\u001b[0m \u001b[0mkernel\u001b[0m\u001b[0;34m,\u001b[0m \u001b[0mrandom_seed\u001b[0m\u001b[0;34m=\u001b[0m\u001b[0mseed\u001b[0m\u001b[0;34m)\u001b[0m\u001b[0;34m\u001b[0m\u001b[0;34m\u001b[0m\u001b[0m\n\u001b[0m\u001b[1;32m    200\u001b[0m         \u001b[0;31m# see comment on the other call to np.iinfo in this file\u001b[0m\u001b[0;34m\u001b[0m\u001b[0;34m\u001b[0m\u001b[0;34m\u001b[0m\u001b[0m\n\u001b[1;32m    201\u001b[0m \u001b[0;34m\u001b[0m\u001b[0m\n",
            "\u001b[0;32m/usr/local/lib/python3.6/dist-packages/sklearn/svm/_base.py\u001b[0m in \u001b[0;36m_dense_fit\u001b[0;34m(self, X, y, sample_weight, solver_type, kernel, random_seed)\u001b[0m\n\u001b[1;32m    237\u001b[0m             \u001b[0;31m# TODO: add keyword copy to copy on demand\u001b[0m\u001b[0;34m\u001b[0m\u001b[0;34m\u001b[0m\u001b[0;34m\u001b[0m\u001b[0m\n\u001b[1;32m    238\u001b[0m             \u001b[0mself\u001b[0m\u001b[0;34m.\u001b[0m\u001b[0m__Xfit\u001b[0m \u001b[0;34m=\u001b[0m \u001b[0mX\u001b[0m\u001b[0;34m\u001b[0m\u001b[0;34m\u001b[0m\u001b[0m\n\u001b[0;32m--> 239\u001b[0;31m             \u001b[0mX\u001b[0m \u001b[0;34m=\u001b[0m \u001b[0mself\u001b[0m\u001b[0;34m.\u001b[0m\u001b[0m_compute_kernel\u001b[0m\u001b[0;34m(\u001b[0m\u001b[0mX\u001b[0m\u001b[0;34m)\u001b[0m\u001b[0;34m\u001b[0m\u001b[0;34m\u001b[0m\u001b[0m\n\u001b[0m\u001b[1;32m    240\u001b[0m \u001b[0;34m\u001b[0m\u001b[0m\n\u001b[1;32m    241\u001b[0m             \u001b[0;32mif\u001b[0m \u001b[0mX\u001b[0m\u001b[0;34m.\u001b[0m\u001b[0mshape\u001b[0m\u001b[0;34m[\u001b[0m\u001b[0;36m0\u001b[0m\u001b[0;34m]\u001b[0m \u001b[0;34m!=\u001b[0m \u001b[0mX\u001b[0m\u001b[0;34m.\u001b[0m\u001b[0mshape\u001b[0m\u001b[0;34m[\u001b[0m\u001b[0;36m1\u001b[0m\u001b[0;34m]\u001b[0m\u001b[0;34m:\u001b[0m\u001b[0;34m\u001b[0m\u001b[0;34m\u001b[0m\u001b[0m\n",
            "\u001b[0;32m/usr/local/lib/python3.6/dist-packages/sklearn/svm/_base.py\u001b[0m in \u001b[0;36m_compute_kernel\u001b[0;34m(self, X)\u001b[0m\n\u001b[1;32m    367\u001b[0m             \u001b[0;31m# in the case of precomputed kernel given as a function, we\u001b[0m\u001b[0;34m\u001b[0m\u001b[0;34m\u001b[0m\u001b[0;34m\u001b[0m\u001b[0m\n\u001b[1;32m    368\u001b[0m             \u001b[0;31m# have to compute explicitly the kernel matrix\u001b[0m\u001b[0;34m\u001b[0m\u001b[0;34m\u001b[0m\u001b[0;34m\u001b[0m\u001b[0m\n\u001b[0;32m--> 369\u001b[0;31m             \u001b[0mkernel\u001b[0m \u001b[0;34m=\u001b[0m \u001b[0mself\u001b[0m\u001b[0;34m.\u001b[0m\u001b[0mkernel\u001b[0m\u001b[0;34m(\u001b[0m\u001b[0mX\u001b[0m\u001b[0;34m,\u001b[0m \u001b[0mself\u001b[0m\u001b[0;34m.\u001b[0m\u001b[0m__Xfit\u001b[0m\u001b[0;34m)\u001b[0m\u001b[0;34m\u001b[0m\u001b[0;34m\u001b[0m\u001b[0m\n\u001b[0m\u001b[1;32m    370\u001b[0m             \u001b[0;32mif\u001b[0m \u001b[0msp\u001b[0m\u001b[0;34m.\u001b[0m\u001b[0missparse\u001b[0m\u001b[0;34m(\u001b[0m\u001b[0mkernel\u001b[0m\u001b[0;34m)\u001b[0m\u001b[0;34m:\u001b[0m\u001b[0;34m\u001b[0m\u001b[0;34m\u001b[0m\u001b[0m\n\u001b[1;32m    371\u001b[0m                 \u001b[0mkernel\u001b[0m \u001b[0;34m=\u001b[0m \u001b[0mkernel\u001b[0m\u001b[0;34m.\u001b[0m\u001b[0mtoarray\u001b[0m\u001b[0;34m(\u001b[0m\u001b[0;34m)\u001b[0m\u001b[0;34m\u001b[0m\u001b[0;34m\u001b[0m\u001b[0m\n",
            "\u001b[0;32m<ipython-input-7-ccf8511cd913>\u001b[0m in \u001b[0;36mmy_kernel\u001b[0;34m(X, Y)\u001b[0m\n\u001b[1;32m      3\u001b[0m     \u001b[0;32mfor\u001b[0m \u001b[0mi\u001b[0m\u001b[0;34m,\u001b[0m\u001b[0mx\u001b[0m \u001b[0;32min\u001b[0m \u001b[0menumerate\u001b[0m\u001b[0;34m(\u001b[0m\u001b[0mX\u001b[0m\u001b[0;34m)\u001b[0m\u001b[0;34m:\u001b[0m\u001b[0;34m\u001b[0m\u001b[0;34m\u001b[0m\u001b[0m\n\u001b[1;32m      4\u001b[0m         \u001b[0;32mfor\u001b[0m \u001b[0mj\u001b[0m\u001b[0;34m,\u001b[0m\u001b[0my\u001b[0m \u001b[0;32min\u001b[0m \u001b[0menumerate\u001b[0m\u001b[0;34m(\u001b[0m\u001b[0mY\u001b[0m\u001b[0;34m)\u001b[0m\u001b[0;34m:\u001b[0m\u001b[0;34m\u001b[0m\u001b[0;34m\u001b[0m\u001b[0m\n\u001b[0;32m----> 5\u001b[0;31m             \u001b[0mK\u001b[0m\u001b[0;34m[\u001b[0m\u001b[0mi\u001b[0m\u001b[0;34m,\u001b[0m\u001b[0mj\u001b[0m\u001b[0;34m]\u001b[0m \u001b[0;34m=\u001b[0m \u001b[0mnp\u001b[0m\u001b[0;34m.\u001b[0m\u001b[0mexp\u001b[0m\u001b[0;34m(\u001b[0m\u001b[0;34m-\u001b[0m\u001b[0;34m(\u001b[0m\u001b[0mnp\u001b[0m\u001b[0;34m.\u001b[0m\u001b[0msqrt\u001b[0m\u001b[0;34m(\u001b[0m\u001b[0;36m0.1\u001b[0m\u001b[0;34m)\u001b[0m\u001b[0;34m/\u001b[0m\u001b[0;36m4\u001b[0m\u001b[0;34m)\u001b[0m\u001b[0;34m*\u001b[0m\u001b[0mnp\u001b[0m\u001b[0;34m.\u001b[0m\u001b[0mlinalg\u001b[0m\u001b[0;34m.\u001b[0m\u001b[0mnorm\u001b[0m\u001b[0;34m(\u001b[0m\u001b[0mx\u001b[0m\u001b[0;34m-\u001b[0m\u001b[0my\u001b[0m\u001b[0;34m)\u001b[0m\u001b[0;34m**\u001b[0m\u001b[0;36m2\u001b[0m\u001b[0;34m)\u001b[0m\u001b[0;34m\u001b[0m\u001b[0;34m\u001b[0m\u001b[0m\n\u001b[0m\u001b[1;32m      6\u001b[0m     \u001b[0;32mreturn\u001b[0m \u001b[0mK\u001b[0m\u001b[0;34m\u001b[0m\u001b[0;34m\u001b[0m\u001b[0m\n\u001b[1;32m      7\u001b[0m \u001b[0;32mdef\u001b[0m \u001b[0mgaussianKernelGramMatrixFull\u001b[0m\u001b[0;34m(\u001b[0m\u001b[0mX1\u001b[0m\u001b[0;34m,\u001b[0m \u001b[0mX2\u001b[0m\u001b[0;34m,\u001b[0m \u001b[0msigma\u001b[0m\u001b[0;34m=\u001b[0m\u001b[0;36m0.1\u001b[0m\u001b[0;34m)\u001b[0m\u001b[0;34m:\u001b[0m\u001b[0;34m\u001b[0m\u001b[0;34m\u001b[0m\u001b[0m\n",
            "\u001b[0;32m<__array_function__ internals>\u001b[0m in \u001b[0;36mnorm\u001b[0;34m(*args, **kwargs)\u001b[0m\n",
            "\u001b[0;32m/usr/local/lib/python3.6/dist-packages/numpy/linalg/linalg.py\u001b[0m in \u001b[0;36mnorm\u001b[0;34m(x, ord, axis, keepdims)\u001b[0m\n\u001b[1;32m   2524\u001b[0m             (ord == 2 and ndim == 1)):\n\u001b[1;32m   2525\u001b[0m \u001b[0;34m\u001b[0m\u001b[0m\n\u001b[0;32m-> 2526\u001b[0;31m             \u001b[0mx\u001b[0m \u001b[0;34m=\u001b[0m \u001b[0mx\u001b[0m\u001b[0;34m.\u001b[0m\u001b[0mravel\u001b[0m\u001b[0;34m(\u001b[0m\u001b[0morder\u001b[0m\u001b[0;34m=\u001b[0m\u001b[0;34m'K'\u001b[0m\u001b[0;34m)\u001b[0m\u001b[0;34m\u001b[0m\u001b[0;34m\u001b[0m\u001b[0m\n\u001b[0m\u001b[1;32m   2527\u001b[0m             \u001b[0;32mif\u001b[0m \u001b[0misComplexType\u001b[0m\u001b[0;34m(\u001b[0m\u001b[0mx\u001b[0m\u001b[0;34m.\u001b[0m\u001b[0mdtype\u001b[0m\u001b[0;34m.\u001b[0m\u001b[0mtype\u001b[0m\u001b[0;34m)\u001b[0m\u001b[0;34m:\u001b[0m\u001b[0;34m\u001b[0m\u001b[0;34m\u001b[0m\u001b[0m\n\u001b[1;32m   2528\u001b[0m                 \u001b[0msqnorm\u001b[0m \u001b[0;34m=\u001b[0m \u001b[0mdot\u001b[0m\u001b[0;34m(\u001b[0m\u001b[0mx\u001b[0m\u001b[0;34m.\u001b[0m\u001b[0mreal\u001b[0m\u001b[0;34m,\u001b[0m \u001b[0mx\u001b[0m\u001b[0;34m.\u001b[0m\u001b[0mreal\u001b[0m\u001b[0;34m)\u001b[0m \u001b[0;34m+\u001b[0m \u001b[0mdot\u001b[0m\u001b[0;34m(\u001b[0m\u001b[0mx\u001b[0m\u001b[0;34m.\u001b[0m\u001b[0mimag\u001b[0m\u001b[0;34m,\u001b[0m \u001b[0mx\u001b[0m\u001b[0;34m.\u001b[0m\u001b[0mimag\u001b[0m\u001b[0;34m)\u001b[0m\u001b[0;34m\u001b[0m\u001b[0;34m\u001b[0m\u001b[0m\n",
            "\u001b[0;31mKeyboardInterrupt\u001b[0m: "
          ]
        }
      ]
    }
  ]
}